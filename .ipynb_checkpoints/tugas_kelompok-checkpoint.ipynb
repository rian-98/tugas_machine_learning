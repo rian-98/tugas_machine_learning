{
 "cells": [
  {
   "cell_type": "code",
   "execution_count": null,
   "id": "2e4044d5-98b2-4590-b121-6e12a37b62f9",
   "metadata": {},
   "outputs": [],
   "source": [
    "import pandas as pd\n",
    "import os\n",
    "\n",
    "# Folder tempat file CSV disimpan\n",
    "data_path = r\"C:\\Users\\Delta\\Downloads\\CCS-master\\sample data\"\n",
    "\n",
    "# Baca semua dataset\n",
    "customers = pd.read_csv(os.path.join(data_path, \"customers.csv\"))\n",
    "gasstations = pd.read_csv(os.path.join(data_path, \"gasstations.csv\"))\n",
    "products = pd.read_csv(os.path.join(data_path, \"products.csv\"))\n",
    "sample = pd.read_csv(os.path.join(data_path, \"sample.csv\"))\n",
    "\n",
    "# Tampilkan beberapa baris pertama\n",
    "print(\"Customers:\")\n",
    "display(customers.head())\n",
    "print(\"Gas Stations:\")\n",
    "display(gasstations.head())\n",
    "print(\"Products:\")\n",
    "display(products.head())\n",
    "print(\"Sample Transactions:\")\n",
    "display(sample.head())\n"
   ]
  },
  {
   "cell_type": "code",
   "execution_count": null,
   "id": "3dfce513-3ece-4037-8f20-8a654b8d9253",
   "metadata": {},
   "outputs": [],
   "source": [
    "print(customers.columns)\n",
    "print(gasstations.columns)\n",
    "print(products.columns)\n",
    "print(sample.columns)\n"
   ]
  },
  {
   "cell_type": "code",
   "execution_count": null,
   "id": "b54bfad7-c54a-4089-a271-9312b17c4bc2",
   "metadata": {},
   "outputs": [],
   "source": [
    "# Gabungkan semua dataset ke dalam satu DataFrame\n",
    "merged_df = sample.merge(customers, on=\"CustomerID\", how=\"left\") \\\n",
    "                  .merge(gasstations, left_on=\"GasStationID\", right_on=\"SiteID\", how=\"left\") \\\n",
    "                  .merge(products, on=\"ProductID\", how=\"left\")\n",
    "\n",
    "# Lihat hasilnya\n",
    "merged_df.head()\n"
   ]
  },
  {
   "cell_type": "code",
   "execution_count": null,
   "id": "1314060e-281a-4d9a-9fdb-32aa866e0ffd",
   "metadata": {},
   "outputs": [],
   "source": [
    "# Buat kolom total transaksi\n",
    "merged_df[\"TotalValue\"] = merged_df[\"Amount\"] * merged_df[\"Price\"]\n",
    "\n",
    "# Hitung total per CustomerID\n",
    "top5_customers = (\n",
    "    merged_df.groupby(\"CustomerID\")[\"TotalValue\"]\n",
    "    .sum()\n",
    "    .sort_values(ascending=False)\n",
    "    .head(5)\n",
    ")\n",
    "\n",
    "print(\"🏆 Top 5 Customers dengan Nilai Transaksi Tertinggi:\")\n",
    "print(top5_customers)\n"
   ]
  },
  {
   "cell_type": "code",
   "execution_count": null,
   "id": "cd72375d-378b-490e-87bf-83832eaccae6",
   "metadata": {},
   "outputs": [],
   "source": [
    "top5_gasstations = (\n",
    "    merged_df.groupby(\"GasStationID\")[\"TotalValue\"]\n",
    "    .sum()\n",
    "    .sort_values(ascending=False)\n",
    "    .head(5)\n",
    ")\n",
    "\n",
    "print(\"⛽ Top 5 Gas Stations dengan Nilai Transaksi Tertinggi:\")\n",
    "print(top5_gasstations)\n"
   ]
  },
  {
   "cell_type": "code",
   "execution_count": null,
   "id": "74d903b1-b4b3-4f93-9ad4-d7aabd2de1db",
   "metadata": {},
   "outputs": [],
   "source": [
    "top5_products = (\n",
    "    merged_df.groupby(\"Description\")[\"TotalValue\"]\n",
    "    .sum()\n",
    "    .sort_values(ascending=False)\n",
    "    .head(5)\n",
    ")\n",
    "\n",
    "print(\"🛢️ Top 5 Produk dengan Nilai Transaksi Tertinggi:\")\n",
    "print(top5_products)\n"
   ]
  },
  {
   "cell_type": "code",
   "execution_count": null,
   "id": "91efeec2-02c2-466b-bee8-7ad42fd739cb",
   "metadata": {},
   "outputs": [],
   "source": [
    "# Pastikan kolom Date dalam format tanggal\n",
    "merged_df[\"Date\"] = pd.to_datetime(merged_df[\"Date\"], errors='coerce')\n",
    "\n",
    "# Ambil data hanya tanggal 23-26 (kalau ada di dataset)\n",
    "for day in [23, 24, 25, 26]:\n",
    "    subset = merged_df[merged_df[\"Date\"].dt.day == day]\n",
    "    if not subset.empty:\n",
    "        print(f\"\\n📆 Statistik Deskriptif untuk tanggal {day}:\")\n",
    "        print(subset.describe())\n"
   ]
  },
  {
   "cell_type": "code",
   "execution_count": null,
   "id": "29273b5b-c017-4690-a54f-1a797c7ead09",
   "metadata": {},
   "outputs": [],
   "source": [
    "# Pastikan kolom Time adalah format waktu\n",
    "merged_df[\"Time\"] = pd.to_datetime(merged_df[\"Time\"], format='%H:%M:%S', errors='coerce').dt.time\n",
    "\n",
    "# Ambil jam saja\n",
    "merged_df[\"Hour\"] = pd.to_datetime(merged_df[\"Time\"], format='%H:%M:%S', errors='coerce').dt.hour\n",
    "\n",
    "# Hitung jumlah transaksi per hari & jam\n",
    "transactions_per_hour = merged_df.groupby([merged_df[\"Date\"].dt.date, \"Hour\"]).size().reset_index(name=\"Total_Transactions\")\n",
    "\n",
    "# Ambil waktu dengan transaksi terbanyak\n",
    "best_time = transactions_per_hour.sort_values(by=\"Total_Transactions\", ascending=False).head(1)\n",
    "\n",
    "print(\"\\n🔥 Waktu terbaik (hari dan jam) dengan transaksi terbanyak:\")\n",
    "print(best_time)\n"
   ]
  }
 ],
 "metadata": {
  "kernelspec": {
   "display_name": "Python 3 (ipykernel)",
   "language": "python",
   "name": "python3"
  },
  "language_info": {
   "codemirror_mode": {
    "name": "ipython",
    "version": 3
   },
   "file_extension": ".py",
   "mimetype": "text/x-python",
   "name": "python",
   "nbconvert_exporter": "python",
   "pygments_lexer": "ipython3",
   "version": "3.14.0"
  }
 },
 "nbformat": 4,
 "nbformat_minor": 5
}
